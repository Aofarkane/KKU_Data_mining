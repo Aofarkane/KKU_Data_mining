{
  "nbformat": 4,
  "nbformat_minor": 0,
  "metadata": {
    "colab": {
      "name": "data103 Distance.ipynb",
      "provenance": [],
      "authorship_tag": "ABX9TyN5OY+SA9ZLKrFcw/1mciEs",
      "include_colab_link": true
    },
    "kernelspec": {
      "name": "python3",
      "display_name": "Python 3"
    }
  },
  "cells": [
    {
      "cell_type": "markdown",
      "metadata": {
        "id": "view-in-github",
        "colab_type": "text"
      },
      "source": [
        "<a href=\"https://colab.research.google.com/github/Aofarkane/KKU_Data_mining/blob/master/data103_Distance.ipynb\" target=\"_parent\"><img src=\"https://colab.research.google.com/assets/colab-badge.svg\" alt=\"Open In Colab\"/></a>"
      ]
    },
    {
      "cell_type": "code",
      "metadata": {
        "id": "mZ6h5S6MsVAI",
        "colab_type": "code",
        "colab": {}
      },
      "source": [
        "import numpy as np\n"
      ],
      "execution_count": 33,
      "outputs": []
    },
    {
      "cell_type": "markdown",
      "metadata": {
        "id": "k562pOmUskke",
        "colab_type": "text"
      },
      "source": [
        "##numpr array\n"
      ]
    },
    {
      "cell_type": "code",
      "metadata": {
        "id": "vxaF-pVOsr_Y",
        "colab_type": "code",
        "colab": {
          "base_uri": "https://localhost:8080/",
          "height": 50
        },
        "outputId": "8367f4b8-a233-4c0d-d25b-fd025d0ac7e5"
      },
      "source": [
        "np1 = np.array([[1,3,5],[2,4,6]])\n",
        "np1"
      ],
      "execution_count": 34,
      "outputs": [
        {
          "output_type": "execute_result",
          "data": {
            "text/plain": [
              "array([[1, 3, 5],\n",
              "       [2, 4, 6]])"
            ]
          },
          "metadata": {
            "tags": []
          },
          "execution_count": 34
        }
      ]
    },
    {
      "cell_type": "code",
      "metadata": {
        "id": "ZD2nGQVMs-Gc",
        "colab_type": "code",
        "colab": {
          "base_uri": "https://localhost:8080/",
          "height": 84
        },
        "outputId": "a6420d13-99e0-4283-c61a-c62e7e7485a9"
      },
      "source": [
        "np2 = np.array([[1,2],[3,5],[2,0],[4,5]])\n",
        "np2"
      ],
      "execution_count": 35,
      "outputs": [
        {
          "output_type": "execute_result",
          "data": {
            "text/plain": [
              "array([[1, 2],\n",
              "       [3, 5],\n",
              "       [2, 0],\n",
              "       [4, 5]])"
            ]
          },
          "metadata": {
            "tags": []
          },
          "execution_count": 35
        }
      ]
    },
    {
      "cell_type": "code",
      "metadata": {
        "id": "YsM6QTezte4R",
        "colab_type": "code",
        "colab": {
          "base_uri": "https://localhost:8080/",
          "height": 50
        },
        "outputId": "6e671495-142a-422c-bb36-2c0364c96d3e"
      },
      "source": [
        "np2.T"
      ],
      "execution_count": 36,
      "outputs": [
        {
          "output_type": "execute_result",
          "data": {
            "text/plain": [
              "array([[1, 3, 2, 4],\n",
              "       [2, 5, 0, 5]])"
            ]
          },
          "metadata": {
            "tags": []
          },
          "execution_count": 36
        }
      ]
    },
    {
      "cell_type": "code",
      "metadata": {
        "id": "3krYydQuuE06",
        "colab_type": "code",
        "colab": {
          "base_uri": "https://localhost:8080/",
          "height": 33
        },
        "outputId": "540959ee-4e9d-48fc-b7d0-2c360a2f8ec4"
      },
      "source": [
        "np2[0,:]"
      ],
      "execution_count": 37,
      "outputs": [
        {
          "output_type": "execute_result",
          "data": {
            "text/plain": [
              "array([1, 2])"
            ]
          },
          "metadata": {
            "tags": []
          },
          "execution_count": 37
        }
      ]
    },
    {
      "cell_type": "markdown",
      "metadata": {
        "id": "5NN7r7EUu8oY",
        "colab_type": "text"
      },
      "source": [
        "##HW 6 สร้าง Distance merix ( Euclidean) ของ np2 โดยสร้าง Funtion สำหรับคำนวณ  Euclidean Distance "
      ]
    },
    {
      "cell_type": "code",
      "metadata": {
        "id": "oi2wK0EVxI8h",
        "colab_type": "code",
        "colab": {}
      },
      "source": [
        "import math"
      ],
      "execution_count": 38,
      "outputs": []
    },
    {
      "cell_type": "code",
      "metadata": {
        "id": "ks4_irQSupJm",
        "colab_type": "code",
        "colab": {}
      },
      "source": [
        "def Manhattan(data1,data2):\n",
        "    distX = abs(data1[0] - data2[0])\n",
        "    distY = abs(data1[1] - data2[1])\n",
        "    return distX+distY"
      ],
      "execution_count": 39,
      "outputs": []
    },
    {
      "cell_type": "code",
      "metadata": {
        "id": "le_TXUeZwjkh",
        "colab_type": "code",
        "colab": {
          "base_uri": "https://localhost:8080/",
          "height": 33
        },
        "outputId": "e368f454-2814-460d-a9a8-b26578f5c6e5"
      },
      "source": [
        "Manhattan(np2[0,:],np2[1,:])"
      ],
      "execution_count": 40,
      "outputs": [
        {
          "output_type": "execute_result",
          "data": {
            "text/plain": [
              "5"
            ]
          },
          "metadata": {
            "tags": []
          },
          "execution_count": 40
        }
      ]
    },
    {
      "cell_type": "code",
      "metadata": {
        "id": "NvTi0j9Gw78M",
        "colab_type": "code",
        "colab": {
          "base_uri": "https://localhost:8080/",
          "height": 84
        },
        "outputId": "e8508097-a16d-4064-c5ab-67b5903ced6b"
      },
      "source": [
        "np.zeros((4,4))"
      ],
      "execution_count": 41,
      "outputs": [
        {
          "output_type": "execute_result",
          "data": {
            "text/plain": [
              "array([[0., 0., 0., 0.],\n",
              "       [0., 0., 0., 0.],\n",
              "       [0., 0., 0., 0.],\n",
              "       [0., 0., 0., 0.]])"
            ]
          },
          "metadata": {
            "tags": []
          },
          "execution_count": 41
        }
      ]
    },
    {
      "cell_type": "code",
      "metadata": {
        "id": "2jb51TPJyfPJ",
        "colab_type": "code",
        "colab": {
          "base_uri": "https://localhost:8080/",
          "height": 84
        },
        "outputId": "2e0348d9-66e6-425a-e8c4-cec750e57c00"
      },
      "source": [
        "np.ones((4,4))"
      ],
      "execution_count": 42,
      "outputs": [
        {
          "output_type": "execute_result",
          "data": {
            "text/plain": [
              "array([[1., 1., 1., 1.],\n",
              "       [1., 1., 1., 1.],\n",
              "       [1., 1., 1., 1.],\n",
              "       [1., 1., 1., 1.]])"
            ]
          },
          "metadata": {
            "tags": []
          },
          "execution_count": 42
        }
      ]
    },
    {
      "cell_type": "code",
      "metadata": {
        "id": "RIc5LuJPyuEm",
        "colab_type": "code",
        "colab": {
          "base_uri": "https://localhost:8080/",
          "height": 84
        },
        "outputId": "19f425be-69d0-441b-bb3d-b705d611537f"
      },
      "source": [
        "5*np.ones((4,4))"
      ],
      "execution_count": 43,
      "outputs": [
        {
          "output_type": "execute_result",
          "data": {
            "text/plain": [
              "array([[5., 5., 5., 5.],\n",
              "       [5., 5., 5., 5.],\n",
              "       [5., 5., 5., 5.],\n",
              "       [5., 5., 5., 5.]])"
            ]
          },
          "metadata": {
            "tags": []
          },
          "execution_count": 43
        }
      ]
    },
    {
      "cell_type": "code",
      "metadata": {
        "id": "CyM26c8Ayz0B",
        "colab_type": "code",
        "colab": {
          "base_uri": "https://localhost:8080/",
          "height": 84
        },
        "outputId": "899c169b-e8e4-4f4c-f892-b5122fe31d21"
      },
      "source": [
        "dist_mat = np.zeros((4,4))\n",
        "dist_mat"
      ],
      "execution_count": 44,
      "outputs": [
        {
          "output_type": "execute_result",
          "data": {
            "text/plain": [
              "array([[0., 0., 0., 0.],\n",
              "       [0., 0., 0., 0.],\n",
              "       [0., 0., 0., 0.],\n",
              "       [0., 0., 0., 0.]])"
            ]
          },
          "metadata": {
            "tags": []
          },
          "execution_count": 44
        }
      ]
    },
    {
      "cell_type": "code",
      "metadata": {
        "id": "tNQfOmyBzJ8Y",
        "colab_type": "code",
        "colab": {
          "base_uri": "https://localhost:8080/",
          "height": 84
        },
        "outputId": "9bf9d534-5d90-478f-d1e7-24f2e93ba3f4"
      },
      "source": [
        "for i in range(4):\n",
        "  for j in range(4):\n",
        "    dist_mat[i,j]= Manhattan(np2[i,:],np2[j,:])\n",
        "\n",
        "dist_mat    "
      ],
      "execution_count": 45,
      "outputs": [
        {
          "output_type": "execute_result",
          "data": {
            "text/plain": [
              "array([[0., 5., 3., 6.],\n",
              "       [5., 0., 6., 1.],\n",
              "       [3., 6., 0., 7.],\n",
              "       [6., 1., 7., 0.]])"
            ]
          },
          "metadata": {
            "tags": []
          },
          "execution_count": 45
        }
      ]
    },
    {
      "cell_type": "code",
      "metadata": {
        "id": "90iq2infz2ab",
        "colab_type": "code",
        "colab": {
          "base_uri": "https://localhost:8080/",
          "height": 33
        },
        "outputId": "8c271854-ee51-457a-bf01-ce719e598f77"
      },
      "source": [
        "np2.shape"
      ],
      "execution_count": 46,
      "outputs": [
        {
          "output_type": "execute_result",
          "data": {
            "text/plain": [
              "(4, 2)"
            ]
          },
          "metadata": {
            "tags": []
          },
          "execution_count": 46
        }
      ]
    },
    {
      "cell_type": "code",
      "metadata": {
        "id": "Zh_rHSir0SxL",
        "colab_type": "code",
        "colab": {}
      },
      "source": [
        "def Euclidean(data1,data2):\n",
        "    distX = pow(abs(data1[0]-data2[0]),2)\n",
        "    distY = pow(abs(data1[1]-data2[1]),2)\n",
        "    return math.sqrt(distX+distY)"
      ],
      "execution_count": 47,
      "outputs": []
    },
    {
      "cell_type": "code",
      "metadata": {
        "id": "NosdapBZg6nw",
        "colab_type": "code",
        "colab": {
          "base_uri": "https://localhost:8080/",
          "height": 84
        },
        "outputId": "792336c9-4191-4922-9caa-41cc72463ed6"
      },
      "source": [
        "dist_math1 = np.zeros((4,4))\n",
        "dist_math1"
      ],
      "execution_count": 48,
      "outputs": [
        {
          "output_type": "execute_result",
          "data": {
            "text/plain": [
              "array([[0., 0., 0., 0.],\n",
              "       [0., 0., 0., 0.],\n",
              "       [0., 0., 0., 0.],\n",
              "       [0., 0., 0., 0.]])"
            ]
          },
          "metadata": {
            "tags": []
          },
          "execution_count": 48
        }
      ]
    },
    {
      "cell_type": "code",
      "metadata": {
        "id": "4KuugpKkg_rr",
        "colab_type": "code",
        "colab": {
          "base_uri": "https://localhost:8080/",
          "height": 84
        },
        "outputId": "a8750c56-0ffc-487a-9980-6f8e7e8525ae"
      },
      "source": [
        "for i in range(4):\n",
        "    for j in range(4):\n",
        "        dist_math1[i,j] = Euclidean(np2[i,:],np2[j,:])\n",
        "dist_math1"
      ],
      "execution_count": 49,
      "outputs": [
        {
          "output_type": "execute_result",
          "data": {
            "text/plain": [
              "array([[0.        , 3.60555128, 2.23606798, 4.24264069],\n",
              "       [3.60555128, 0.        , 5.09901951, 1.        ],\n",
              "       [2.23606798, 5.09901951, 0.        , 5.38516481],\n",
              "       [4.24264069, 1.        , 5.38516481, 0.        ]])"
            ]
          },
          "metadata": {
            "tags": []
          },
          "execution_count": 49
        }
      ]
    },
    {
      "cell_type": "markdown",
      "metadata": {
        "id": "prCX4o3gshJR",
        "colab_type": "text"
      },
      "source": [
        "## Distance of nominal or categorical features"
      ]
    },
    {
      "cell_type": "markdown",
      "metadata": {
        "id": "6qmX55uWtePL",
        "colab_type": "text"
      },
      "source": [
        "## (extra) python data structure(dictionary)"
      ]
    },
    {
      "cell_type": "code",
      "metadata": {
        "id": "96oUD3FHhFOq",
        "colab_type": "code",
        "colab": {}
      },
      "source": [
        " d_A ={'a':1,2:3,3:5,'cat':6}"
      ],
      "execution_count": 50,
      "outputs": []
    },
    {
      "cell_type": "code",
      "metadata": {
        "id": "h2-coqxMuCxH",
        "colab_type": "code",
        "colab": {
          "base_uri": "https://localhost:8080/",
          "height": 33
        },
        "outputId": "cb64a8a6-912a-43f0-fb1e-6906ad1961dc"
      },
      "source": [
        "d_A"
      ],
      "execution_count": 51,
      "outputs": [
        {
          "output_type": "execute_result",
          "data": {
            "text/plain": [
              "{2: 3, 3: 5, 'a': 1, 'cat': 6}"
            ]
          },
          "metadata": {
            "tags": []
          },
          "execution_count": 51
        }
      ]
    },
    {
      "cell_type": "code",
      "metadata": {
        "id": "cPpV6reVuPdx",
        "colab_type": "code",
        "colab": {
          "base_uri": "https://localhost:8080/",
          "height": 33
        },
        "outputId": "727af91e-c927-4971-d807-b8fc91c70c7e"
      },
      "source": [
        "d_A['cat']"
      ],
      "execution_count": 52,
      "outputs": [
        {
          "output_type": "execute_result",
          "data": {
            "text/plain": [
              "6"
            ]
          },
          "metadata": {
            "tags": []
          },
          "execution_count": 52
        }
      ]
    },
    {
      "cell_type": "code",
      "metadata": {
        "id": "AvVzdM2Audmo",
        "colab_type": "code",
        "colab": {}
      },
      "source": [
        "d_A['dog']=[1,2,3,4,5]"
      ],
      "execution_count": 53,
      "outputs": []
    },
    {
      "cell_type": "code",
      "metadata": {
        "id": "Vbw0DdA7vCaC",
        "colab_type": "code",
        "colab": {
          "base_uri": "https://localhost:8080/",
          "height": 33
        },
        "outputId": "e3659c02-db74-46fa-edfb-5fa5c5b030b0"
      },
      "source": [
        "d_A"
      ],
      "execution_count": 54,
      "outputs": [
        {
          "output_type": "execute_result",
          "data": {
            "text/plain": [
              "{2: 3, 3: 5, 'a': 1, 'cat': 6, 'dog': [1, 2, 3, 4, 5]}"
            ]
          },
          "metadata": {
            "tags": []
          },
          "execution_count": 54
        }
      ]
    },
    {
      "cell_type": "code",
      "metadata": {
        "id": "clNp6M-NvGNx",
        "colab_type": "code",
        "colab": {}
      },
      "source": [
        "del d_A['dog']"
      ],
      "execution_count": 55,
      "outputs": []
    },
    {
      "cell_type": "code",
      "metadata": {
        "id": "FFKNrXYBvsQd",
        "colab_type": "code",
        "colab": {
          "base_uri": "https://localhost:8080/",
          "height": 33
        },
        "outputId": "dde352d2-2363-4335-b230-395bdc1a60fb"
      },
      "source": [
        "d_A"
      ],
      "execution_count": 56,
      "outputs": [
        {
          "output_type": "execute_result",
          "data": {
            "text/plain": [
              "{2: 3, 3: 5, 'a': 1, 'cat': 6}"
            ]
          },
          "metadata": {
            "tags": []
          },
          "execution_count": 56
        }
      ]
    },
    {
      "cell_type": "code",
      "metadata": {
        "id": "756S30e0v0oo",
        "colab_type": "code",
        "colab": {}
      },
      "source": [
        "import pandas as pd"
      ],
      "execution_count": 57,
      "outputs": []
    },
    {
      "cell_type": "code",
      "metadata": {
        "id": "CP4AxJrLwv6P",
        "colab_type": "code",
        "colab": {}
      },
      "source": [
        "data_dict={'color':['red','red','green'],\n",
        "           'status':['single','marrird','single']}"
      ],
      "execution_count": 58,
      "outputs": []
    },
    {
      "cell_type": "code",
      "metadata": {
        "id": "2bhJEN_pxdj1",
        "colab_type": "code",
        "colab": {
          "base_uri": "https://localhost:8080/",
          "height": 33
        },
        "outputId": "397ed8e5-5b9f-462b-9368-59518744babd"
      },
      "source": [
        "data_dict"
      ],
      "execution_count": 59,
      "outputs": [
        {
          "output_type": "execute_result",
          "data": {
            "text/plain": [
              "{'color': ['red', 'red', 'green'], 'status': ['single', 'marrird', 'single']}"
            ]
          },
          "metadata": {
            "tags": []
          },
          "execution_count": 59
        }
      ]
    },
    {
      "cell_type": "code",
      "metadata": {
        "id": "4JAoBDN7xlgR",
        "colab_type": "code",
        "colab": {
          "base_uri": "https://localhost:8080/",
          "height": 137
        },
        "outputId": "838f18b9-8ee8-456a-b6f0-71d99df76f5f"
      },
      "source": [
        "data_pd=pd.DataFrame.from_dict(data_dict)\n",
        "data_pd"
      ],
      "execution_count": 60,
      "outputs": [
        {
          "output_type": "execute_result",
          "data": {
            "text/html": [
              "<div>\n",
              "<style scoped>\n",
              "    .dataframe tbody tr th:only-of-type {\n",
              "        vertical-align: middle;\n",
              "    }\n",
              "\n",
              "    .dataframe tbody tr th {\n",
              "        vertical-align: top;\n",
              "    }\n",
              "\n",
              "    .dataframe thead th {\n",
              "        text-align: right;\n",
              "    }\n",
              "</style>\n",
              "<table border=\"1\" class=\"dataframe\">\n",
              "  <thead>\n",
              "    <tr style=\"text-align: right;\">\n",
              "      <th></th>\n",
              "      <th>color</th>\n",
              "      <th>status</th>\n",
              "    </tr>\n",
              "  </thead>\n",
              "  <tbody>\n",
              "    <tr>\n",
              "      <th>0</th>\n",
              "      <td>red</td>\n",
              "      <td>single</td>\n",
              "    </tr>\n",
              "    <tr>\n",
              "      <th>1</th>\n",
              "      <td>red</td>\n",
              "      <td>marrird</td>\n",
              "    </tr>\n",
              "    <tr>\n",
              "      <th>2</th>\n",
              "      <td>green</td>\n",
              "      <td>single</td>\n",
              "    </tr>\n",
              "  </tbody>\n",
              "</table>\n",
              "</div>"
            ],
            "text/plain": [
              "   color   status\n",
              "0    red   single\n",
              "1    red  marrird\n",
              "2  green   single"
            ]
          },
          "metadata": {
            "tags": []
          },
          "execution_count": 60
        }
      ]
    },
    {
      "cell_type": "markdown",
      "metadata": {
        "id": "dODyzsUGyXUg",
        "colab_type": "text"
      },
      "source": [
        "##categorical feature dastance method#1"
      ]
    },
    {
      "cell_type": "code",
      "metadata": {
        "id": "MjenAYb5yTYp",
        "colab_type": "code",
        "colab": {
          "base_uri": "https://localhost:8080/",
          "height": 0
        },
        "outputId": "ddd15068-2755-4a91-93ea-10a24430d7c4"
      },
      "source": [
        "list(data_pd.iloc[0,:])"
      ],
      "execution_count": 61,
      "outputs": [
        {
          "output_type": "execute_result",
          "data": {
            "text/plain": [
              "['red', 'single']"
            ]
          },
          "metadata": {
            "tags": []
          },
          "execution_count": 61
        }
      ]
    },
    {
      "cell_type": "code",
      "metadata": {
        "id": "m5oFcJNQyz3A",
        "colab_type": "code",
        "colab": {}
      },
      "source": [
        "def meth1_dist(data1,data2):\n",
        "    N=0\n",
        "    print (f' data1 is {data1} and data2 is {data2}')\n",
        "    for i in range(len(data1)):\n",
        "        print(f'feature{i} of data1 is {data1[i]},feature{i} os data2 is {data2[i]}')\n",
        "        if data1[i] != data2[i]:\n",
        "           N = N+1\n",
        "           print(f'{data1[i]} is not equal {data2[i]} : update({N})')\n",
        "        else:\n",
        "            print(f' {data1[i]} is equal {data2[i]}')\n",
        "    return N/len(data1)"
      ],
      "execution_count": 62,
      "outputs": []
    },
    {
      "cell_type": "code",
      "metadata": {
        "id": "UogZuZ6y0muR",
        "colab_type": "code",
        "colab": {
          "base_uri": "https://localhost:8080/",
          "height": 0
        },
        "outputId": "332bdd65-c826-4db8-dd2a-501e049fd235"
      },
      "source": [
        "meth1_dist(list(data_pd.iloc[0,:]),list(data_pd.iloc[1,:]))"
      ],
      "execution_count": 63,
      "outputs": [
        {
          "output_type": "stream",
          "text": [
            " data1 is ['red', 'single'] and data2 is ['red', 'marrird']\n",
            "feature0 of data1 is red,feature0 os data2 is red\n",
            " red is equal red\n",
            "feature1 of data1 is single,feature1 os data2 is marrird\n",
            "single is not equal marrird : update(1)\n"
          ],
          "name": "stdout"
        },
        {
          "output_type": "execute_result",
          "data": {
            "text/plain": [
              "0.5"
            ]
          },
          "metadata": {
            "tags": []
          },
          "execution_count": 63
        }
      ]
    },
    {
      "cell_type": "markdown",
      "metadata": {
        "id": "12xu628824VM",
        "colab_type": "text"
      },
      "source": [
        "##HW7 calculate distance metrix od data_pd using meth_dist()"
      ]
    },
    {
      "cell_type": "markdown",
      "metadata": {
        "id": "8XQ_dF_u3_KX",
        "colab_type": "text"
      },
      "source": [
        "##categorical feature dastance method#2"
      ]
    },
    {
      "cell_type": "code",
      "metadata": {
        "id": "uBSoMx9p07pA",
        "colab_type": "code",
        "colab": {
          "base_uri": "https://localhost:8080/",
          "height": 137
        },
        "outputId": "b211144a-1538-47de-ed60-a8ac062a54db"
      },
      "source": [
        "data_pd_binary = pd.get_dummies(data_pd)\n",
        "data_pd_binary"
      ],
      "execution_count": 64,
      "outputs": [
        {
          "output_type": "execute_result",
          "data": {
            "text/html": [
              "<div>\n",
              "<style scoped>\n",
              "    .dataframe tbody tr th:only-of-type {\n",
              "        vertical-align: middle;\n",
              "    }\n",
              "\n",
              "    .dataframe tbody tr th {\n",
              "        vertical-align: top;\n",
              "    }\n",
              "\n",
              "    .dataframe thead th {\n",
              "        text-align: right;\n",
              "    }\n",
              "</style>\n",
              "<table border=\"1\" class=\"dataframe\">\n",
              "  <thead>\n",
              "    <tr style=\"text-align: right;\">\n",
              "      <th></th>\n",
              "      <th>color_green</th>\n",
              "      <th>color_red</th>\n",
              "      <th>status_marrird</th>\n",
              "      <th>status_single</th>\n",
              "    </tr>\n",
              "  </thead>\n",
              "  <tbody>\n",
              "    <tr>\n",
              "      <th>0</th>\n",
              "      <td>0</td>\n",
              "      <td>1</td>\n",
              "      <td>0</td>\n",
              "      <td>1</td>\n",
              "    </tr>\n",
              "    <tr>\n",
              "      <th>1</th>\n",
              "      <td>0</td>\n",
              "      <td>1</td>\n",
              "      <td>1</td>\n",
              "      <td>0</td>\n",
              "    </tr>\n",
              "    <tr>\n",
              "      <th>2</th>\n",
              "      <td>1</td>\n",
              "      <td>0</td>\n",
              "      <td>0</td>\n",
              "      <td>1</td>\n",
              "    </tr>\n",
              "  </tbody>\n",
              "</table>\n",
              "</div>"
            ],
            "text/plain": [
              "   color_green  color_red  status_marrird  status_single\n",
              "0            0          1               0              1\n",
              "1            0          1               1              0\n",
              "2            1          0               0              1"
            ]
          },
          "metadata": {
            "tags": []
          },
          "execution_count": 64
        }
      ]
    },
    {
      "cell_type": "code",
      "metadata": {
        "id": "oK3ghxYM4L1B",
        "colab_type": "code",
        "colab": {}
      },
      "source": [
        "def binary_sym_dist(data1,data2):\n",
        "    q = 0\n",
        "    rs = 0\n",
        "    t = 0\n",
        "    for i in range(len(data1)):\n",
        "        if data1[i] == data2[i]:\n",
        "           if data1[i] == 1:\n",
        "              q = q + 1\n",
        "        else:\n",
        "            t = t + 1\n",
        "        if data1[i] != data2[i]:\n",
        "           rs = rs + 1\n",
        "    return (rs)/(q+rs+t)"
      ],
      "execution_count": 65,
      "outputs": []
    },
    {
      "cell_type": "code",
      "metadata": {
        "id": "gYUZaMQY6l5_",
        "colab_type": "code",
        "colab": {
          "base_uri": "https://localhost:8080/",
          "height": 33
        },
        "outputId": "b6d00121-8364-4379-bff8-3e71d9841a52"
      },
      "source": [
        "binary_sym_dist(list(data_pd.iloc[0,:]),list(data_pd.iloc[1,:]))\n"
      ],
      "execution_count": 66,
      "outputs": [
        {
          "output_type": "execute_result",
          "data": {
            "text/plain": [
              "0.5"
            ]
          },
          "metadata": {
            "tags": []
          },
          "execution_count": 66
        }
      ]
    },
    {
      "cell_type": "code",
      "metadata": {
        "id": "fo8mVEXONs4e",
        "colab_type": "code",
        "colab": {
          "base_uri": "https://localhost:8080/",
          "height": 67
        },
        "outputId": "751fee02-da1e-4d65-bb2a-e6da953c74dc"
      },
      "source": [
        "dist_math2 = np.zeros((3,3))\n",
        "dist_math2"
      ],
      "execution_count": 67,
      "outputs": [
        {
          "output_type": "execute_result",
          "data": {
            "text/plain": [
              "array([[0., 0., 0.],\n",
              "       [0., 0., 0.],\n",
              "       [0., 0., 0.]])"
            ]
          },
          "metadata": {
            "tags": []
          },
          "execution_count": 67
        }
      ]
    },
    {
      "cell_type": "code",
      "metadata": {
        "id": "6FgF03_HOCMy",
        "colab_type": "code",
        "colab": {
          "base_uri": "https://localhost:8080/",
          "height": 820
        },
        "outputId": "dbfa1c0c-c5c9-4c4a-915f-b39522a4d5ba"
      },
      "source": [
        "for i in range(3):\n",
        "    for j in range(3):\n",
        "        dist_math2[i,j] = meth1_dist(list(data_pd.iloc[i,:]),list(data_pd.iloc[j,:]))\n",
        "dist_math2"
      ],
      "execution_count": 71,
      "outputs": [
        {
          "output_type": "stream",
          "text": [
            " data1 is ['red', 'single'] and data2 is ['red', 'single']\n",
            "feature0 of data1 is red,feature0 os data2 is red\n",
            " red is equal red\n",
            "feature1 of data1 is single,feature1 os data2 is single\n",
            " single is equal single\n",
            " data1 is ['red', 'single'] and data2 is ['red', 'marrird']\n",
            "feature0 of data1 is red,feature0 os data2 is red\n",
            " red is equal red\n",
            "feature1 of data1 is single,feature1 os data2 is marrird\n",
            "single is not equal marrird : update(1)\n",
            " data1 is ['red', 'single'] and data2 is ['green', 'single']\n",
            "feature0 of data1 is red,feature0 os data2 is green\n",
            "red is not equal green : update(1)\n",
            "feature1 of data1 is single,feature1 os data2 is single\n",
            " single is equal single\n",
            " data1 is ['red', 'marrird'] and data2 is ['red', 'single']\n",
            "feature0 of data1 is red,feature0 os data2 is red\n",
            " red is equal red\n",
            "feature1 of data1 is marrird,feature1 os data2 is single\n",
            "marrird is not equal single : update(1)\n",
            " data1 is ['red', 'marrird'] and data2 is ['red', 'marrird']\n",
            "feature0 of data1 is red,feature0 os data2 is red\n",
            " red is equal red\n",
            "feature1 of data1 is marrird,feature1 os data2 is marrird\n",
            " marrird is equal marrird\n",
            " data1 is ['red', 'marrird'] and data2 is ['green', 'single']\n",
            "feature0 of data1 is red,feature0 os data2 is green\n",
            "red is not equal green : update(1)\n",
            "feature1 of data1 is marrird,feature1 os data2 is single\n",
            "marrird is not equal single : update(2)\n",
            " data1 is ['green', 'single'] and data2 is ['red', 'single']\n",
            "feature0 of data1 is green,feature0 os data2 is red\n",
            "green is not equal red : update(1)\n",
            "feature1 of data1 is single,feature1 os data2 is single\n",
            " single is equal single\n",
            " data1 is ['green', 'single'] and data2 is ['red', 'marrird']\n",
            "feature0 of data1 is green,feature0 os data2 is red\n",
            "green is not equal red : update(1)\n",
            "feature1 of data1 is single,feature1 os data2 is marrird\n",
            "single is not equal marrird : update(2)\n",
            " data1 is ['green', 'single'] and data2 is ['green', 'single']\n",
            "feature0 of data1 is green,feature0 os data2 is green\n",
            " green is equal green\n",
            "feature1 of data1 is single,feature1 os data2 is single\n",
            " single is equal single\n"
          ],
          "name": "stdout"
        },
        {
          "output_type": "execute_result",
          "data": {
            "text/plain": [
              "array([[0. , 0.5, 0.5],\n",
              "       [0.5, 0. , 1. ],\n",
              "       [0.5, 1. , 0. ]])"
            ]
          },
          "metadata": {
            "tags": []
          },
          "execution_count": 71
        }
      ]
    },
    {
      "cell_type": "code",
      "metadata": {
        "id": "Rek69LDSOHPs",
        "colab_type": "code",
        "colab": {}
      },
      "source": [
        ""
      ],
      "execution_count": 68,
      "outputs": []
    },
    {
      "cell_type": "markdown",
      "metadata": {
        "id": "puWZrvMK706D",
        "colab_type": "text"
      },
      "source": [
        "##HW8  calculate distance metrix od data_pd_binary using binary_sym_dist ()"
      ]
    },
    {
      "cell_type": "code",
      "metadata": {
        "id": "-eT7JvhNPFfj",
        "colab_type": "code",
        "colab": {}
      },
      "source": [
        ""
      ],
      "execution_count": 68,
      "outputs": []
    },
    {
      "cell_type": "code",
      "metadata": {
        "id": "VrMFDAOrO926",
        "colab_type": "code",
        "colab": {
          "base_uri": "https://localhost:8080/",
          "height": 820
        },
        "outputId": "5c91f37f-1b02-4f6f-8861-dab3490cdbda"
      },
      "source": [
        "for i in range(3):\n",
        "    for j in range(3):\n",
        "        dist_math2[i,j] = meth1_dist(list(data_pd.iloc[i,:]),list(data_pd.iloc[j,:]))\n",
        "dist_math2"
      ],
      "execution_count": 73,
      "outputs": [
        {
          "output_type": "stream",
          "text": [
            " data1 is ['red', 'single'] and data2 is ['red', 'single']\n",
            "feature0 of data1 is red,feature0 os data2 is red\n",
            " red is equal red\n",
            "feature1 of data1 is single,feature1 os data2 is single\n",
            " single is equal single\n",
            " data1 is ['red', 'single'] and data2 is ['red', 'marrird']\n",
            "feature0 of data1 is red,feature0 os data2 is red\n",
            " red is equal red\n",
            "feature1 of data1 is single,feature1 os data2 is marrird\n",
            "single is not equal marrird : update(1)\n",
            " data1 is ['red', 'single'] and data2 is ['green', 'single']\n",
            "feature0 of data1 is red,feature0 os data2 is green\n",
            "red is not equal green : update(1)\n",
            "feature1 of data1 is single,feature1 os data2 is single\n",
            " single is equal single\n",
            " data1 is ['red', 'marrird'] and data2 is ['red', 'single']\n",
            "feature0 of data1 is red,feature0 os data2 is red\n",
            " red is equal red\n",
            "feature1 of data1 is marrird,feature1 os data2 is single\n",
            "marrird is not equal single : update(1)\n",
            " data1 is ['red', 'marrird'] and data2 is ['red', 'marrird']\n",
            "feature0 of data1 is red,feature0 os data2 is red\n",
            " red is equal red\n",
            "feature1 of data1 is marrird,feature1 os data2 is marrird\n",
            " marrird is equal marrird\n",
            " data1 is ['red', 'marrird'] and data2 is ['green', 'single']\n",
            "feature0 of data1 is red,feature0 os data2 is green\n",
            "red is not equal green : update(1)\n",
            "feature1 of data1 is marrird,feature1 os data2 is single\n",
            "marrird is not equal single : update(2)\n",
            " data1 is ['green', 'single'] and data2 is ['red', 'single']\n",
            "feature0 of data1 is green,feature0 os data2 is red\n",
            "green is not equal red : update(1)\n",
            "feature1 of data1 is single,feature1 os data2 is single\n",
            " single is equal single\n",
            " data1 is ['green', 'single'] and data2 is ['red', 'marrird']\n",
            "feature0 of data1 is green,feature0 os data2 is red\n",
            "green is not equal red : update(1)\n",
            "feature1 of data1 is single,feature1 os data2 is marrird\n",
            "single is not equal marrird : update(2)\n",
            " data1 is ['green', 'single'] and data2 is ['green', 'single']\n",
            "feature0 of data1 is green,feature0 os data2 is green\n",
            " green is equal green\n",
            "feature1 of data1 is single,feature1 os data2 is single\n",
            " single is equal single\n"
          ],
          "name": "stdout"
        },
        {
          "output_type": "execute_result",
          "data": {
            "text/plain": [
              "array([[0. , 0.5, 0.5],\n",
              "       [0.5, 0. , 1. ],\n",
              "       [0.5, 1. , 0. ]])"
            ]
          },
          "metadata": {
            "tags": []
          },
          "execution_count": 73
        }
      ]
    },
    {
      "cell_type": "code",
      "metadata": {
        "id": "p_ra0ZBI7bvm",
        "colab_type": "code",
        "colab": {
          "base_uri": "https://localhost:8080/",
          "height": 67
        },
        "outputId": "f7cef15e-e034-4ea1-c33b-ad1816626798"
      },
      "source": [
        "binary_sym_dist1 = np.zeros((3,3))\n",
        "binary_sym_dist1\n",
        "\n",
        "for i in range(3):\n",
        "    for j in range(3):\n",
        "        binary_sym_dist1[i,j] = binary_sym_dist(list(data_pd_binary.iloc[i,:]),list(data_pd_binary.iloc[j,:]))\n",
        "binary_sym_dist1"
      ],
      "execution_count": 74,
      "outputs": [
        {
          "output_type": "execute_result",
          "data": {
            "text/plain": [
              "array([[0. , 0.4, 0.4],\n",
              "       [0.4, 0. , 0.5],\n",
              "       [0.4, 0.5, 0. ]])"
            ]
          },
          "metadata": {
            "tags": []
          },
          "execution_count": 74
        }
      ]
    },
    {
      "cell_type": "code",
      "metadata": {
        "id": "s6WrzsatOUrc",
        "colab_type": "code",
        "colab": {}
      },
      "source": [
        ""
      ],
      "execution_count": 70,
      "outputs": []
    }
  ]
}